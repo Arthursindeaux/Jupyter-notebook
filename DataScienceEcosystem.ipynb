{
 "cells": [
  {
   "cell_type": "markdown",
   "id": "ad0c2936",
   "metadata": {},
   "source": [
    "# Data Science Tools and Ecosystem\n"
   ]
  },
  {
   "cell_type": "markdown",
   "id": "6e6fa15d",
   "metadata": {},
   "source": [
    "In this notebook, Data Science Tools and Ecosystem are summarized."
   ]
  },
  {
   "cell_type": "markdown",
   "id": "b4afcf09",
   "metadata": {},
   "source": [
    "**Objectives:**\n",
    "\n",
    "1-Show you the most commonly used languages in Data Science.\n",
    "\n",
    "2-Show you popular libraries in Data Science.\n",
    "\n",
    "3-Show you the important tools for working in Data Science.\n"
   ]
  },
  {
   "cell_type": "markdown",
   "id": "6f8897fc",
   "metadata": {},
   "source": [
    "Some of the popular languages that Data Scients use are:\n",
    "\n",
    "1-Python\n",
    "\n",
    "2-R\n",
    "\n",
    "3-SQL\n",
    "\n",
    "4-Julia\n",
    "\n",
    "5-Scala\n"
   ]
  },
  {
   "cell_type": "markdown",
   "id": "3c59e296",
   "metadata": {},
   "source": [
    "Some of the commonly used libraries by Data Scients include:\n",
    "Pandas\n",
    "Numpy\n",
    "Matplotlib"
   ]
  },
  {
   "cell_type": "markdown",
   "id": "a66fd1d0",
   "metadata": {},
   "source": [
    "# Data Science Tools\n",
    "\n",
    "|RStudio|\n",
    "\n",
    "|Jupyter Notebook|\n",
    "\n",
    "|Visual Studio Code|"
   ]
  },
  {
   "cell_type": "markdown",
   "id": "ba3a2595",
   "metadata": {},
   "source": [
    "### Below are a few examples of evaluating arithmetic expressions in Python"
   ]
  },
  {
   "cell_type": "code",
   "execution_count": 3,
   "id": "785403ec",
   "metadata": {},
   "outputs": [
    {
     "name": "stdout",
     "output_type": "stream",
     "text": [
      "This a simple arithmetic expression to mutiply then add integers.\n"
     ]
    },
    {
     "data": {
      "text/plain": [
       "17"
      ]
     },
     "execution_count": 3,
     "metadata": {},
     "output_type": "execute_result"
    }
   ],
   "source": [
    "print(\"This a simple arithmetic expression to mutiply then add integers.\")\n",
    "(3*4)+5"
   ]
  },
  {
   "cell_type": "code",
   "execution_count": 8,
   "id": "69f13a3c",
   "metadata": {},
   "outputs": [
    {
     "name": "stdout",
     "output_type": "stream",
     "text": [
      "This will convert 200 minutes to hours by diving by 60\n",
      "3.33\n"
     ]
    }
   ],
   "source": [
    "print(\"This will convert 200 minutes to hours by diving by 60\")\n",
    "minutes = 200\n",
    "hours = round(minutes / 60, 2)\n",
    "print(hours)\n"
   ]
  },
  {
   "cell_type": "markdown",
   "id": "7e44619f",
   "metadata": {},
   "source": [
    "## Author ##\n",
    "Arthur Sindeaux de Araújo Nogueira"
   ]
  }
 ],
 "metadata": {
  "kernelspec": {
   "display_name": ".venv",
   "language": "python",
   "name": "python3"
  },
  "language_info": {
   "codemirror_mode": {
    "name": "ipython",
    "version": 3
   },
   "file_extension": ".py",
   "mimetype": "text/x-python",
   "name": "python",
   "nbconvert_exporter": "python",
   "pygments_lexer": "ipython3",
   "version": "3.13.2"
  }
 },
 "nbformat": 4,
 "nbformat_minor": 5
}
